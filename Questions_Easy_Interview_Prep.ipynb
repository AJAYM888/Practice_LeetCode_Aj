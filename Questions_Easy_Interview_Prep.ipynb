{
  "nbformat": 4,
  "nbformat_minor": 0,
  "metadata": {
    "colab": {
      "provenance": [],
      "authorship_tag": "ABX9TyP0CdNBfJfyiqJNI80WveI2",
      "include_colab_link": true
    },
    "kernelspec": {
      "name": "python3",
      "display_name": "Python 3"
    },
    "language_info": {
      "name": "python"
    }
  },
  "cells": [
    {
      "cell_type": "markdown",
      "metadata": {
        "id": "view-in-github",
        "colab_type": "text"
      },
      "source": [
        "<a href=\"https://colab.research.google.com/github/AJAYM888/Practice_LeetCode_Aj/blob/main/Questions_Easy_Interview_Prep.ipynb\" target=\"_parent\"><img src=\"https://colab.research.google.com/assets/colab-badge.svg\" alt=\"Open In Colab\"/></a>"
      ]
    },
    {
      "cell_type": "markdown",
      "source": [
        "### LeetCode: Interview Prep - Easy_Python\n",
        "\n",
        "1. Two Sum  \n",
        "13. Roman to Integer  \n",
        "14. Longest Common Prefix  \n",
        "20. Valid Parentheses  \n",
        "21. Merge Two Sorted Lists  \n",
        "26. Remove Duplicates from Sorted Array  \n",
        "28. Find the Index of the First Occurrence in a String  \n",
        "66. Plus One  \n",
        "69. Sqrt(x)  \n",
        "70. Climbing Stairs  \n",
        "88. Merge Sorted Array  \n",
        "94. Binary Tree Inorder Traversal  \n",
        "101. Symmetric Tree  \n",
        "104. Maximum Depth of Binary Tree  \n",
        "108. Convert Sorted Array to Binary Search Tree  \n",
        "118. Pascal's Triangle  \n",
        "121. Best Time to Buy and Sell Stock  \n",
        "125. Valid Palindrome  \n",
        "136. Single Number  \n",
        "141. Linked List Cycle  \n",
        "160. Intersection of Two Linked Lists  \n",
        "163. Missing Ranges  \n",
        "169. Majority Element  \n",
        "171. Excel Sheet Column Number  \n",
        "190. Reverse Bits  \n",
        "191. Number of 1 Bits  \n",
        "202. Happy Number  \n",
        "206. Reverse Linked List  \n",
        "217. Contains Duplicate  \n",
        "234. Palindrome Linked List  \n",
        "242. Valid Anagram  \n",
        "268. Missing Number  \n",
        "283. Move Zeroes  \n",
        "326. Power of Three  \n",
        "344. Reverse String  \n",
        "350. Intersection of Two Arrays II  \n",
        "387. First Unique Character in a String  \n",
        "412. Fizz Buzz  "
      ],
      "metadata": {
        "id": "-WZj6YCzuqj2"
      }
    },
    {
      "cell_type": "code",
      "source": [],
      "metadata": {
        "id": "9rWu23RWwIUo"
      },
      "execution_count": null,
      "outputs": []
    }
  ]
}