{
  "nbformat": 4,
  "nbformat_minor": 0,
  "metadata": {
    "colab": {
      "provenance": [],
      "authorship_tag": "ABX9TyMAlZfNrDxstGnWyd86B5pd",
      "include_colab_link": true
    },
    "kernelspec": {
      "name": "python3",
      "display_name": "Python 3"
    },
    "language_info": {
      "name": "python"
    }
  },
  "cells": [
    {
      "cell_type": "markdown",
      "metadata": {
        "id": "view-in-github",
        "colab_type": "text"
      },
      "source": [
        "<a href=\"https://colab.research.google.com/github/AJAYM888/Practice_LeetCode_Aj/blob/main/Questions_Easy_Interview_Prep.ipynb\" target=\"_parent\"><img src=\"https://colab.research.google.com/assets/colab-badge.svg\" alt=\"Open In Colab\"/></a>"
      ]
    },
    {
      "cell_type": "markdown",
      "source": [
        "### LeetCode: Interview Prep - Easy_Python\n",
        "\n",
        "1. Two Sum -- **Done**\n",
        "13. Roman to Integer -- **Done**\n",
        "14. Longest Common Prefix -- **Done**  \n",
        "20. Valid Parentheses -- **Done**  \n",
        "21. Merge Two Sorted Lists -- **10th Jan**  \n",
        "26. Remove Duplicates from Sorted Array -- **10th Jan**  \n",
        "28. Find the Index of the First Occurrence in a String -- **10th Jan**\n",
        "66. Plus One -- **11th Jan**  \n",
        "69. Sqrt(x) -- **11th Jan**   \n",
        "70. Climbing Stairs -- **11th Jan**   \n",
        "88. Merge Sorted Array -- **11th Jan**   \n",
        "94. Binary Tree Inorder Traversal -- **12th Jan**   \n",
        "101. Symmetric Tree -- **12th Jan**    \n",
        "104. Maximum Depth of Binary Tree -- **12th Jan**    \n",
        "108. Convert Sorted Array to Binary Search Tree -- **13th Jan**    \n",
        "118. Pascal's Triangle -- **13th Jan**  \n",
        "121. Best Time to Buy and Sell Stock -- **14th Jan**  \n",
        "125. Valid Palindrome -- **14th Jan**   \n",
        "136. Single Number -- **15th Jan**   \n",
        "141. Linked List Cycle -- **15th Jan**   \n",
        "160. Intersection of Two Linked Lists -- **16th Jan**    \n",
        "163. Missing Ranges -- **16th Jan**   \n",
        "169. Majority Element -- **17th Jan**   \n",
        "171. Excel Sheet Column Number -- **17th Jan**  \n",
        "190. Reverse Bits -- **17th Jan**  \n",
        "191. Number of 1 Bits -- **18th Jan**  \n",
        "202. Happy Number -- **18th Jan**   \n",
        "206. Reverse Linked List -- **18th Jan**   \n",
        "217. Contains Duplicate -- **19th Jan**   \n",
        "234. Palindrome Linked List -- **19th Jan**  \n",
        "242. Valid Anagram -- **19th Jan**  \n",
        "268. Missing Number -- **20th Jan**  \n",
        "283. Move Zeroes -- **21st Jan**\n",
        "326. Power of Three -- **21st Jan**  \n",
        "344. Reverse String -- **22nd Jan**   \n",
        "350. Intersection of Two Arrays II -- **22nd Jan**   \n",
        "387. First Unique Character in a String -- **23rd Jan**   \n",
        "412. Fizz Buzz -- **23rd Jan**    "
      ],
      "metadata": {
        "id": "-WZj6YCzuqj2"
      }
    },
    {
      "cell_type": "code",
      "source": [],
      "metadata": {
        "id": "9rWu23RWwIUo"
      },
      "execution_count": null,
      "outputs": []
    }
  ]
}