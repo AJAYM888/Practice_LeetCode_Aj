{
  "nbformat": 4,
  "nbformat_minor": 0,
  "metadata": {
    "colab": {
      "provenance": [],
      "authorship_tag": "ABX9TyNeZ/0Zf0ucNCtJnIeYAKMv",
      "include_colab_link": true
    },
    "kernelspec": {
      "name": "python3",
      "display_name": "Python 3"
    },
    "language_info": {
      "name": "python"
    }
  },
  "cells": [
    {
      "cell_type": "markdown",
      "metadata": {
        "id": "view-in-github",
        "colab_type": "text"
      },
      "source": [
        "<a href=\"https://colab.research.google.com/github/AJAYM888/Practice_LeetCode_Aj/blob/main/Questions_Easy_Interview_Prep.ipynb\" target=\"_parent\"><img src=\"https://colab.research.google.com/assets/colab-badge.svg\" alt=\"Open In Colab\"/></a>"
      ]
    },
    {
      "cell_type": "markdown",
      "source": [
        "1. 1. Two Sum\n",
        "2. 13. Roman to Integer\n",
        "3. 14. Longest Common Prefix\n",
        "4. 20. Valid Parentheses\n",
        "5. 21. Merge Two Sorted Lists\n",
        "6. 26. Remove Duplicates from Sorted Array\n",
        "7. 28. Find the Index of the First Occurrence in a String\n",
        "8. 66. Plus One\n",
        "9. 69. Sqrt(x)\n",
        "10. 70. Climbing Stairs\n",
        "11. 88. Merge Sorted Array\n",
        "12. 94. Binary Tree Inorder Traversal\n",
        "13. 101. Symmetric Tree\n",
        "14. 104. Maximum Depth of Binary Tree\n",
        "15. 108. Convert Sorted Array to Binary Search Tree\n",
        "16. 118. Pascal's Triangle\n",
        "17. 121. Best Time to Buy and Sell Stock\n",
        "18. 125. Valid Palindrome\n",
        "19. 136. Single Number\n",
        "20. 141. Linked List Cycle\n",
        "21. 160. Intersection of Two Linked Lists\n",
        "22. 163. Missing Ranges\n",
        "23. 169. Majority Element\n",
        "24. 171. Excel Sheet Column Number\n",
        "25. 190. Reverse Bits\n",
        "26. 191. Number of 1 Bits\n",
        "27. 202. Happy Number\n",
        "28. 206. Reverse Linked List\n",
        "29. 217. Contains Duplicate\n",
        "30. 234. Palindrome Linked List\n",
        "31. 242. Valid Anagram\n",
        "32. 268. Missing Number\n",
        "33. 283. Move Zeroes\n",
        "34. 326. Power of Three\n",
        "35. 344. Reverse String\n",
        "36. 350. Intersection of Two Arrays II\n",
        "37. 387. First Unique Character in a String\n",
        "38. 412. Fizz Buzz"
      ],
      "metadata": {
        "id": "-WZj6YCzuqj2"
      }
    },
    {
      "cell_type": "code",
      "source": [],
      "metadata": {
        "id": "9rWu23RWwIUo"
      },
      "execution_count": null,
      "outputs": []
    }
  ]
}